{
 "cells": [
  {
   "cell_type": "code",
   "execution_count": null,
   "id": "7ee65236",
   "metadata": {},
   "outputs": [],
   "source": [
    "                                       module - 2"
   ]
  },
  {
   "cell_type": "code",
   "execution_count": 1,
   "id": "10de916a",
   "metadata": {},
   "outputs": [
    {
     "name": "stdout",
     "output_type": "stream",
     "text": [
      "enter a number4\n",
      "it is positive\n"
     ]
    }
   ],
   "source": [
    "#Que 1 : Write a Python program to check if a number is positive, negative or zero.\n",
    "a = int(input('enter a number'))\n",
    "if a == 0:\n",
    "    print('zero')\n",
    "elif a >= 1:\n",
    "    print('it is positive')\n",
    "else:\n",
    "    print('it is nagative')"
   ]
  },
  {
   "cell_type": "code",
   "execution_count": 2,
   "id": "2f2ca300",
   "metadata": {},
   "outputs": [
    {
     "name": "stdout",
     "output_type": "stream",
     "text": [
      "120\n"
     ]
    }
   ],
   "source": [
    "# Question 2 : Write a Python program to get the Factorial number of given number.\n",
    "a=5\n",
    "fact=1\n",
    "for i in range(1,a+1):\n",
    "    fact=fact*i\n",
    "print(fact)"
   ]
  },
  {
   "cell_type": "code",
   "execution_count": 3,
   "id": "601ff1e5",
   "metadata": {},
   "outputs": [
    {
     "name": "stdout",
     "output_type": "stream",
     "text": [
      "0\n",
      "1\n",
      "1\n",
      "2\n",
      "3\n",
      "5\n",
      "8\n",
      "13\n",
      "21\n"
     ]
    }
   ],
   "source": [
    "# Question 3: Write a Python program to get the Fibonacci series of given range.\n",
    "\n",
    "num=1\n",
    "fib=0\n",
    "for i in range(9):\n",
    "    num,fib=fib,num+fib\n",
    "    fact=fact+i\n",
    "    if fact==1:\n",
    "        print(1)\n",
    "    print(num)"
   ]
  },
  {
   "cell_type": "code",
   "execution_count": null,
   "id": "b856043e",
   "metadata": {},
   "outputs": [],
   "source": [
    "# question 4:How memory is managed in Python?\n",
    "-> memory management in python involves a private heap containing all python \n",
    "object and data stuctures.the management of this private heap is ensured \n",
    "internally by the python memory  manager.\n"
   ]
  },
  {
   "cell_type": "code",
   "execution_count": null,
   "id": "e120bb9a",
   "metadata": {},
   "outputs": [],
   "source": [
    "#Question 5: What is the purpose continue statement in python?\n",
    "\n",
    "-> The continue keyword is used to end the current iteration in a for loop (or a while loop), \n",
    "and continues to the next iteration."
   ]
  },
  {
   "cell_type": "code",
   "execution_count": 4,
   "id": "7a3ddd2a",
   "metadata": {},
   "outputs": [
    {
     "name": "stdout",
     "output_type": "stream",
     "text": [
      "20 10\n"
     ]
    }
   ],
   "source": [
    "# question 6: Write python program that swap two number with temp variable and without temp variable\n",
    "\n",
    "\n",
    "a=10\n",
    "b=20\n",
    "a,b=b,a\n",
    "print(a,b)"
   ]
  },
  {
   "cell_type": "code",
   "execution_count": 5,
   "id": "1d8ba61c",
   "metadata": {},
   "outputs": [
    {
     "name": "stdout",
     "output_type": "stream",
     "text": [
      "enter any number test whether it is odd or  even:5\n",
      "the number is odd\n"
     ]
    }
   ],
   "source": [
    "# question 7:Write a Python program to find whether a given number is even or odd,\n",
    "#print out an appropriate message to the user.\n",
    "\n",
    "\n",
    "num = int(input(\"enter any number test whether it is odd or  even:\"))\n",
    "if (num%2)==0:\n",
    "    print('the number is even')\n",
    "else:\n",
    "    print('the number is odd')"
   ]
  },
  {
   "cell_type": "code",
   "execution_count": 6,
   "id": "b29becc0",
   "metadata": {},
   "outputs": [
    {
     "name": "stdout",
     "output_type": "stream",
     "text": [
      "enter a character:fh\n",
      "it is not vowel\n"
     ]
    }
   ],
   "source": [
    "# question 8: Write a Python program to test whether a passed letter is a vowel or not.\n",
    "\n",
    "a1=('aeiouAIOEU')\n",
    "char=input('enter a character:')\n",
    "if char in a1:\n",
    "    print(\"it is vowel\")\n",
    "else:\n",
    "    print(\"it is not vowel\")"
   ]
  },
  {
   "cell_type": "code",
   "execution_count": 10,
   "id": "26b5f9a1",
   "metadata": {},
   "outputs": [
    {
     "name": "stdout",
     "output_type": "stream",
     "text": [
      "enter a first number:3\n",
      "enter a second number:5\n",
      "enter a third number:6\n",
      "14\n"
     ]
    }
   ],
   "source": [
    "# question 9:Write a Python program to sum of three given integers.However, if two\n",
    "#values are equal sum will be zero.\n",
    "\n",
    "a1=int(input(\"enter a first number:\"))\n",
    "a2=int(input(\"enter a second number:\"))\n",
    "a3=int(input(\"enter a third number:\"))\n",
    "sum=a1+a2+a3\n",
    "if a1==a3 or a1==a2 or a2==a3:\n",
    "    sum=0\n",
    "else:\n",
    "    print(sum)"
   ]
  },
  {
   "cell_type": "code",
   "execution_count": 13,
   "id": "9b90f52f",
   "metadata": {},
   "outputs": [
    {
     "name": "stdout",
     "output_type": "stream",
     "text": [
      "enter a first number0\n",
      "enter a second number5\n",
      "invalid\n"
     ]
    }
   ],
   "source": [
    "# question 10:Write a Python program that will return true ifthe two given integervalues\n",
    "#are equal or their sum or difference is 5.\n",
    "\n",
    "num1 = int(input('enter a first number'))\n",
    "num2 = int(input('enter a second number'))\n",
    "\n",
    "if num1 + num2 == 0:\n",
    "    print('it is zero')\n",
    "elif num1 - num2 == 5:\n",
    "    print('it is five')\n",
    "else:\n",
    "    print('invalid')"
   ]
  },
  {
   "cell_type": "code",
   "execution_count": 14,
   "id": "2965607a",
   "metadata": {},
   "outputs": [
    {
     "name": "stdout",
     "output_type": "stream",
     "text": [
      "input a number:23\n",
      "sum of the first 23 positive integers: 276.0\n"
     ]
    }
   ],
   "source": [
    "# question 11:Write a python program to sum of the first n positive integers.\n",
    "\n",
    "n = int(input(\"input a number:\"))\n",
    "sum_num = (n*(n+1))/2\n",
    "print(\"sum of the first\",n, \"positive integers:\",sum_num)"
   ]
  },
  {
   "cell_type": "code",
   "execution_count": 15,
   "id": "d206d95d",
   "metadata": {},
   "outputs": [
    {
     "name": "stdout",
     "output_type": "stream",
     "text": [
      "enter a string:hemlata\n"
     ]
    },
    {
     "data": {
      "text/plain": [
       "7"
      ]
     },
     "execution_count": 15,
     "metadata": {},
     "output_type": "execute_result"
    }
   ],
   "source": [
    "# question 12:Write a Python program to calculate the length of a string.\n",
    "str1 = input(\"enter a string:\")\n",
    "len(str1)"
   ]
  },
  {
   "cell_type": "code",
   "execution_count": 16,
   "id": "ac47757c",
   "metadata": {},
   "outputs": [
    {
     "name": "stdout",
     "output_type": "stream",
     "text": [
      "23\n"
     ]
    }
   ],
   "source": [
    "# question 13:Write a Python program to count the number of characters (character\n",
    "#frequency) in a string\n",
    "\n",
    "string=\"the best of both worlds\"\n",
    "a=0\n",
    "for i in string:\n",
    "    a += 1\n",
    "print(a)    "
   ]
  },
  {
   "cell_type": "code",
   "execution_count": null,
   "id": "adb86061",
   "metadata": {},
   "outputs": [],
   "source": [
    "# question 14: What are negative indexes and why are they used?\n",
    "-> negative indexing is used to in python to begin slicing from the end of the string\n",
    "i.e.the last. slicing in python gets a substring from a string.\n",
    "the slicing range is set as parameters i.e.start,stop,step.\n",
    "\n"
   ]
  },
  {
   "cell_type": "code",
   "execution_count": 17,
   "id": "438dea48",
   "metadata": {},
   "outputs": [
    {
     "name": "stdout",
     "output_type": "stream",
     "text": [
      "6\n"
     ]
    }
   ],
   "source": [
    "# question 15:Write a Python program to count occurrences of a substring in a string.\n",
    "str1=\"hemlata h h h h h\"\n",
    "a=str1.count(\"h\")\n",
    "print(a)"
   ]
  },
  {
   "cell_type": "code",
   "execution_count": 18,
   "id": "df523695",
   "metadata": {},
   "outputs": [
    {
     "name": "stdout",
     "output_type": "stream",
     "text": [
      "7\n"
     ]
    }
   ],
   "source": [
    "# question 16:Write a Python program to count the occurrences of each word in a given\n",
    "#sentence\n",
    "\n",
    "a=\"enter a string string string s s s s\"\n",
    "c= a.count(\"s\")\n",
    "print(c)\n"
   ]
  },
  {
   "cell_type": "code",
   "execution_count": 19,
   "id": "63f1a703",
   "metadata": {},
   "outputs": [
    {
     "name": "stdout",
     "output_type": "stream",
     "text": [
      "enter first name : hemlata \n",
      "enter second name : bhoi\n",
      "bhmlata  heoi\n"
     ]
    }
   ],
   "source": [
    "# question 17:Write a Python program to get a single string from two given strings,\n",
    "#separated by a space and swap the first two characters of each string.\n",
    "\n",
    "x=input('enter first name : ')\n",
    "y=input('enter second name : ')\n",
    "\n",
    "string1=y[:2]+x[2:]\n",
    "string2=x[:2]+y[2:]\n",
    "\n",
    "print(f'{string1} {string2}')\n"
   ]
  },
  {
   "cell_type": "code",
   "execution_count": 20,
   "id": "971ce9ff",
   "metadata": {},
   "outputs": [
    {
     "name": "stdout",
     "output_type": "stream",
     "text": [
      "snaping\n"
     ]
    }
   ],
   "source": [
    "# question 18:Write a Python program to add 'ing' at the end of a given string (length\n",
    "# should be at least 3). If the given string already ends with 'ing' then add 'ly'\n",
    "# insteadif the string length of the given string is less than 3, leave it\n",
    "# unchanged.\n",
    "\n",
    "str2='snap'\n",
    "if len(str2)<=3:\n",
    "    print(str2)\n",
    "elif str2[-3 :]=='ing':\n",
    "    print(str2+'ly')\n",
    "else:\n",
    "    print(str2+'ing')\n",
    "    "
   ]
  },
  {
   "cell_type": "code",
   "execution_count": 21,
   "id": "4534a7f1",
   "metadata": {},
   "outputs": [
    {
     "name": "stdout",
     "output_type": "stream",
     "text": [
      "i know you are good\n"
     ]
    }
   ],
   "source": [
    "# question 19:Write a Python program to find the first appearance of the substring 'not'\n",
    "# and 'poor' from a given string, if 'not' follows the 'poor', replace the whole\n",
    "# 'not'...'poor'substring with 'good'. Return the resulting string.\n",
    "\n",
    "string=\"i know you are not poor\"\n",
    "a = string.find('not')    \n",
    "b= string.find('poor')\n",
    "    \n",
    "if a != -1 and b!= -1 and a < b:\n",
    "    print(string[:a] + 'good' + string[b+4:])\n",
    "else:\n",
    "    print(string)"
   ]
  },
  {
   "cell_type": "code",
   "execution_count": 22,
   "id": "ae4d5b87",
   "metadata": {},
   "outputs": [
    {
     "name": "stdout",
     "output_type": "stream",
     "text": [
      "6\n"
     ]
    }
   ],
   "source": [
    "# question 20: Write a Python function that takes a list of words and returns the length\n",
    "# of the longest one.\n",
    "\n",
    "def list(a,b):\n",
    "    if len(a) > len(b):\n",
    "        print(len(a))\n",
    "    if len(b) > len(a):\n",
    "        print(len(b))\n",
    "\n",
    "list('python','zoo')"
   ]
  },
  {
   "cell_type": "code",
   "execution_count": 24,
   "id": "0d5b54f3",
   "metadata": {},
   "outputs": [
    {
     "name": "stdout",
     "output_type": "stream",
     "text": [
      "3\n",
      "3\n"
     ]
    }
   ],
   "source": [
    "# question 21: Write a Python function to reverses a string if its length is a multiple of 4.\n",
    "\n",
    "a=input()\n",
    "if len(a) % 4 == 0:\n",
    "    print( a[::-1])\n",
    "else:\n",
    "    print(a)"
   ]
  },
  {
   "cell_type": "code",
   "execution_count": 25,
   "id": "7ad6b4d5",
   "metadata": {},
   "outputs": [
    {
     "name": "stdout",
     "output_type": "stream",
     "text": [
      "enter the charactershemlata\n",
      "hemlata\n"
     ]
    }
   ],
   "source": [
    "# question 22:Write a Python program to get a string made of the first 2 and the last 2\n",
    "# chars from a given a string. If the string length islessthan 2,return instead\n",
    "# of the empty string.\n",
    "# o Sample String:w3resource'\n",
    "# o Expected Result: 'w3ce'\n",
    "# o Sample String: 'w3'\n",
    "# o Expected Result: 'w3w3'\n",
    "# o Sample String: ' w'\n",
    "# o Expected Result: Empty String\n",
    "\n",
    "s=input('enter the characters')\n",
    "\n",
    "if len(s) > 2:\n",
    "    b=s[:2] + s[-2:]\n",
    "    print(s)\n",
    "else:\n",
    "    print('')"
   ]
  },
  {
   "cell_type": "code",
   "execution_count": null,
   "id": "27a4e903",
   "metadata": {},
   "outputs": [],
   "source": [
    "# question 23:Write a Python function to insert a string in the middle of a string.\n",
    "\n",
    "a =input('enter a string you want to change :')  \n",
    "\n",
    "b =input(\"enter a word with you want to add in center :\")\n",
    "\n",
    "c = a.split()\n",
    "d = len(c) // 2\n",
    " \n",
    "x = c[:d] + [b] + c[d:] \n",
    "\n",
    "x = ' '.join(x)\n",
    " \n",
    "print(str(x))"
   ]
  },
  {
   "cell_type": "code",
   "execution_count": null,
   "id": "b30cd7fe",
   "metadata": {},
   "outputs": [],
   "source": []
  }
 ],
 "metadata": {
  "kernelspec": {
   "display_name": "Python 3 (ipykernel)",
   "language": "python",
   "name": "python3"
  },
  "language_info": {
   "codemirror_mode": {
    "name": "ipython",
    "version": 3
   },
   "file_extension": ".py",
   "mimetype": "text/x-python",
   "name": "python",
   "nbconvert_exporter": "python",
   "pygments_lexer": "ipython3",
   "version": "3.9.12"
  }
 },
 "nbformat": 4,
 "nbformat_minor": 5
}
