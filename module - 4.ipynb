{
 "cells": [
  {
   "cell_type": "code",
   "execution_count": null,
   "id": "f3b15302",
   "metadata": {},
   "outputs": [],
   "source": [
    "                                   module - 4"
   ]
  },
  {
   "cell_type": "code",
   "execution_count": null,
   "id": "fb060240",
   "metadata": {},
   "outputs": [],
   "source": [
    "# question 1:What is File function in python? What is keywords to create and write file.\n",
    "\n",
    "# A file is a container in computer storage devices used for storing data.\n",
    "\n",
    "# When we want to read from or write to a file, we need to open it first. When we are done, it needs to be closed so that the resources that are tied with the file are freed.\n",
    "\n",
    "# Hence, in Python, a file operation takes place in the following order:\n",
    "\n",
    "# Open a file\n",
    "# Read or write (perform operation)\n",
    "# Close the file"
   ]
  },
  {
   "cell_type": "code",
   "execution_count": null,
   "id": "265c0371",
   "metadata": {},
   "outputs": [],
   "source": [
    "open('fun1.txt','x')\n",
    "f1=open('fun1.txt','w')\n",
    "f1.write(\"name \")\n",
    "f1.close()\n",
    "f2=open('fun1.txt','w')\n",
    "f2.write(\"python is a high programming lanaguage \")\n",
    "f2.close()"
   ]
  },
  {
   "cell_type": "code",
   "execution_count": 1,
   "id": "16ea0c57",
   "metadata": {},
   "outputs": [
    {
     "name": "stdout",
     "output_type": "stream",
     "text": [
      "MangoOrangeAppleLemon\n"
     ]
    }
   ],
   "source": [
    "#question 2: Write a Python program to read an entire text file.\n",
    "\n",
    "f3=open('fun.txt','r')\n",
    "d=f3.read()\n",
    "f3.close()\n",
    "print(d)"
   ]
  },
  {
   "cell_type": "code",
   "execution_count": 2,
   "id": "7061d00a",
   "metadata": {},
   "outputs": [],
   "source": [
    "#question 3: Write a Python program to append text to a file and display the text.\n",
    "y1=open('fun.txt','a')\n",
    "y1.write('and also open source')\n",
    "y1.close()"
   ]
  },
  {
   "cell_type": "code",
   "execution_count": 3,
   "id": "651f9837",
   "metadata": {},
   "outputs": [
    {
     "name": "stdout",
     "output_type": "stream",
     "text": [
      "MangoOrangeAppleLemonand also open source\n"
     ]
    }
   ],
   "source": [
    "y1=open('fun.txt','r')\n",
    "q=y1.read()\n",
    "y1.close()\n",
    "print(q)"
   ]
  },
  {
   "cell_type": "code",
   "execution_count": 4,
   "id": "346b6d24",
   "metadata": {},
   "outputs": [],
   "source": [
    "q1=open('fun.txt','w')\n",
    "q1.write(\"\"\"python is high programming language\\na also a open source language\\npython is a high programming language\"\"\")\n",
    "q1.close()"
   ]
  },
  {
   "cell_type": "code",
   "execution_count": 5,
   "id": "4e748244",
   "metadata": {},
   "outputs": [
    {
     "name": "stdout",
     "output_type": "stream",
     "text": [
      "python is high programming language\n",
      "a also a open source language\n",
      "python is a high programming language\n"
     ]
    }
   ],
   "source": [
    "q1=open('fun.txt','r')\n",
    "d=q1.read()\n",
    "q1.close()\n",
    "print(d)"
   ]
  },
  {
   "cell_type": "code",
   "execution_count": 6,
   "id": "23b6171a",
   "metadata": {},
   "outputs": [],
   "source": [
    "f5=open('fun.txt','r')\n",
    "res=f5.readline()\n",
    "f5.close()"
   ]
  },
  {
   "cell_type": "code",
   "execution_count": 7,
   "id": "f2ca4f98",
   "metadata": {},
   "outputs": [
    {
     "name": "stdout",
     "output_type": "stream",
     "text": [
      "python is high programming language\n",
      "\n"
     ]
    }
   ],
   "source": [
    "print(res)"
   ]
  },
  {
   "cell_type": "code",
   "execution_count": 8,
   "id": "3a418e7b",
   "metadata": {},
   "outputs": [
    {
     "name": "stdout",
     "output_type": "stream",
     "text": [
      "\n",
      "python is a high programming language\n"
     ]
    }
   ],
   "source": [
    "\n",
    "f5=open('fun.txt','r')\n",
    "f5.seek(66)\n",
    "new = f5.read()\n",
    "\n",
    "f5.close()\n",
    "print(new)"
   ]
  },
  {
   "cell_type": "code",
   "execution_count": 9,
   "id": "a700cda1",
   "metadata": {},
   "outputs": [
    {
     "name": "stdout",
     "output_type": "stream",
     "text": [
      "['python is high programming language\\n', 'a also a open source language\\n', 'python is a high programming language']\n"
     ]
    }
   ],
   "source": [
    "# question 4:Write a Python program to read a file line by line and store it into a list\n",
    "\n",
    "f5=open('fun.txt','r')\n",
    "res=f5.readlines()\n",
    "f5.close()\n",
    "print(res)"
   ]
  },
  {
   "cell_type": "code",
   "execution_count": 10,
   "id": "4442848b",
   "metadata": {},
   "outputs": [
    {
     "name": "stdout",
     "output_type": "stream",
     "text": [
      "python is high programming language\n",
      " a also a open source language\n",
      " python is a high programming language\n"
     ]
    }
   ],
   "source": [
    "# question 5:Write a Python program to read a file line by line and store it into a variable.\n",
    "\n",
    "f5=open('fun.txt','r')\n",
    "a=f5.readline()\n",
    "b =f5.readline()\n",
    "c=f5.readline()\n",
    "f5.close()\n",
    "print(a,b,c)"
   ]
  },
  {
   "cell_type": "code",
   "execution_count": 11,
   "id": "777fdeda",
   "metadata": {},
   "outputs": [
    {
     "name": "stdout",
     "output_type": "stream",
     "text": [
      "confident\n"
     ]
    }
   ],
   "source": [
    "# question 6:Write a python program to find the longest words.\n",
    "\n",
    "def largestWord(s):\n",
    "    s = sorted(s, key = len)\n",
    " \n",
    "    print(s[-1])\n",
    "    \n",
    "if __name__ == \"__main__\":\n",
    " \n",
    "    \n",
    "    s = \"be confident and be yourself\"\n",
    "\n",
    "    l = list(s.split(\" \"))\n",
    "    largestWord(l)"
   ]
  },
  {
   "cell_type": "code",
   "execution_count": 12,
   "id": "1c03080d",
   "metadata": {},
   "outputs": [
    {
     "name": "stdout",
     "output_type": "stream",
     "text": [
      "python is a high programming language\n"
     ]
    }
   ],
   "source": [
    "# question 7:Write a Python program to read last n lines of a file\n",
    "\n",
    "f5=open('fun.txt','r') \n",
    "lastline=f5.readlines()[-1]\n",
    "print(lastline)"
   ]
  },
  {
   "cell_type": "code",
   "execution_count": 13,
   "id": "d881e6d8",
   "metadata": {},
   "outputs": [
    {
     "name": "stdout",
     "output_type": "stream",
     "text": [
      "['python is high programming language', 'a also a open source language', 'python is a high programming language']\n"
     ]
    }
   ],
   "source": [
    "# question 8:Write a Python program to read a file line by line and store it into a list\n",
    "\n",
    "f5=open('fun.txt','r')\n",
    "lines=f5.read().splitlines()\n",
    "\n",
    "print(lines)\n",
    "f5.close()"
   ]
  },
  {
   "cell_type": "code",
   "execution_count": 14,
   "id": "6a9b7d42",
   "metadata": {},
   "outputs": [
    {
     "name": "stdout",
     "output_type": "stream",
     "text": [
      "['python is high programming language', 'a also a open source language', 'python is a high programming language']\n"
     ]
    }
   ],
   "source": [
    "# question 9:Write a Python program to read a file line by line store it into a variable.\n",
    "f5=open('fun.txt','r')\n",
    "lines=f5.read().splitlines()\n",
    "\n",
    "print(lines)\n",
    "f5.close()\n",
    "f5=open('fun.txt','r')\n",
    "lines=f5.read().splitlines()\n",
    "\n",
    "print(lines)\n",
    "f5.close()\n"
   ]
  },
  {
   "cell_type": "code",
   "execution_count": null,
   "id": "c7efe309",
   "metadata": {},
   "outputs": [],
   "source": [
    "# question 10: Write a Python program to count the number of lines in a text file.\n",
    "\n",
    "f5=open('fun.txt','r')\n",
    "lines=len(f5.readlines())\n",
    "\n",
    "print(lines)\n",
    "f5.close()"
   ]
  },
  {
   "cell_type": "code",
   "execution_count": null,
   "id": "8cc226bb",
   "metadata": {},
   "outputs": [],
   "source": [
    "# qestion 11:Write a Python program to count the frequency of words in a file.\n",
    "count=0\n",
    "f5=open('fun.txt','r')\n",
    "for line in f5:\n",
    "    words=line.split(\" \")\n",
    "    count += len(words)\n",
    "print(str(count))\n",
    "f5.close()"
   ]
  },
  {
   "cell_type": "code",
   "execution_count": null,
   "id": "c0b601b8",
   "metadata": {},
   "outputs": [],
   "source": [
    "# qestion 12:Write a Python program to write a list to a file.\n",
    "items = ['Mango' , 'Orange' , 'Apple' , 'Lemon']\n",
    "file = open('fun.txt','w')\n",
    "file.writelines(items)\n",
    "file.close()\n",
    "\n",
    "file=open('fun.txt','r')\n",
    "file.read()"
   ]
  },
  {
   "cell_type": "code",
   "execution_count": null,
   "id": "2b2d57fb",
   "metadata": {},
   "outputs": [],
   "source": [
    "# question 13: Write a Python program to copy the contents of a file to another file.\n",
    "\n",
    "file1 = open(\"fun.txt\", \"r\")\n",
    "file2 = open(\"fun1.txt\", \"w\")\n",
    "l = file1.readline()\n",
    "\n",
    "while l:\n",
    "    file2.write(l)\n",
    "    l = file1.readline()\n",
    "file1.close()\n",
    "file2.close()\n"
   ]
  },
  {
   "cell_type": "code",
   "execution_count": null,
   "id": "dac742db",
   "metadata": {},
   "outputs": [],
   "source": [
    "# question 14: Explain Exception handling? What is an Error in Python?\n",
    "\n",
    "An exception is an event, which occurs during the execution of a program that disrupts \n",
    "the normal flow of the program's instructions. In general, when a Python script encounters a situation\n",
    "that it cannot cope with, it raises an exception. An exception is a Python object \n",
    "that represents an error."
   ]
  },
  {
   "cell_type": "code",
   "execution_count": null,
   "id": "f10ee8ea",
   "metadata": {},
   "outputs": [],
   "source": [
    "# question 15: qeustiomHow many except statements can a try-except block have?\n",
    "#Name Some built-in exception classes:\n",
    "\n",
    "a try block have at lease one exception\n",
    "key error\n",
    "syntax error\n",
    "inddex erroe\n",
    "value error"
   ]
  },
  {
   "cell_type": "code",
   "execution_count": null,
   "id": "c5d8f761",
   "metadata": {},
   "outputs": [],
   "source": [
    "# question 16:Can one block of except statements handle multiple exception?\n",
    "\n",
    "Yes, a single except block can handle multiple exceptions in Python. \n",
    "You can specify multiple exception types in a single except block by\n",
    "enclosing them in parentheses and separating them with commas."
   ]
  },
  {
   "cell_type": "code",
   "execution_count": null,
   "id": "97571aca",
   "metadata": {},
   "outputs": [],
   "source": [
    "# question 17:When is the finally block executed?\n",
    "\n",
    "The finally block in Python is always executed, regardless of whether an exception \n",
    "is raised or not. It is used to define a block of code that should always be executed,\n",
    "even if an error occurs or if there is a return statement in the try or except blocks.\n"
   ]
  },
  {
   "cell_type": "code",
   "execution_count": null,
   "id": "d31f5904",
   "metadata": {},
   "outputs": [],
   "source": [
    "# question 18: What happens when „1‟== 1 is executed?\n",
    "\n",
    "When the expression \"1\" == 1 is executed in Python, it will return False. \n",
    "This is because \"1\" is a string literal, and 1 is an integer. \n",
    "The == operator checks for equality between the two operands, and \n",
    "since the string \"1\" and the integer 1 are of different types and have\n",
    "different values, they are not considered equal.\n",
    "\n",
    "In Python, the == operator compares the values of the two operands, regardless\n",
    "of their types. If the values are equal, the expression evaluates to True, and if\n",
    "they are not equal, the expression evaluates to False."
   ]
  },
  {
   "cell_type": "code",
   "execution_count": null,
   "id": "6703d5ab",
   "metadata": {},
   "outputs": [],
   "source": [
    "# question 19: How Do You Handle Exceptions With Try/Except/Finally In Python? Explain with coding snippets.\n",
    "def divide(a, b):\n",
    "    try:\n",
    "        result = a // b\n",
    "    except ZeroDivisionError:\n",
    "        print(\"Sorry ! You are dividing by zero \")\n",
    "    else:\n",
    "        print(\"Yeah ! Your answer is :\", result)\n",
    "    finally: \n",
    "       \n",
    "        print('This is always executed')  \n",
    "divide(3, 2)\n",
    "divide(3, 0)"
   ]
  },
  {
   "cell_type": "code",
   "execution_count": null,
   "id": "711f8531",
   "metadata": {},
   "outputs": [],
   "source": [
    "# question 20 Here's an example Python program that prompts the user to enter an odd number, \n",
    "# and raises an exception if they enter an even number:\n",
    "\n",
    "try:\n",
    "    x = int(input(\"Enter an odd number: \"))\n",
    "    if x % 2 == 0:\n",
    "        raise ValueError(\"Invalid input: Please enter an odd number\")\n",
    "    else:\n",
    "        print(\"You entered an odd number:\", x)\n",
    "except ValueError as ve:\n",
    "    print(ve)"
   ]
  },
  {
   "cell_type": "code",
   "execution_count": null,
   "id": "2b5d81f5",
   "metadata": {},
   "outputs": [],
   "source": [
    "# question 21: What are oops concepts? Is multiple inheritance supported in java\n",
    "\n",
    "Object-oriented programming (OOP) is a programming paradigm that is based on the concept of objects.\n",
    "It focuses on creating reusable code by defining objects that have properties (attributes) and methods\n",
    "(behaviors) that can be used to perform specific tasks. There are four main concepts in OOP:\n",
    "\n",
    "Encapsulation:\n",
    "class and object:\n",
    "inheritance:\n",
    "abstraction:\n",
    "polymerphism:\n",
    "    "
   ]
  },
  {
   "cell_type": "code",
   "execution_count": null,
   "id": "e849fa2b",
   "metadata": {},
   "outputs": [],
   "source": [
    "# question 22: How to Define a Class in Python? What Is Self? Give An Example Of A Python Class\n",
    "\n",
    "# In Python, a class is defined using the class keyword followed by the name of the class,\n",
    "# which is usually in CamelCase convention. The class definition consists of a header\n",
    "# line and a body, which is indented. The header line includes the keyword class, \n",
    "# followed by the class name and a colon.Here is an example of how to define a simple class in Python:\n",
    "    \n",
    "class Dog:\n",
    "    def __init__(self, name, age):\n",
    "        self.name = name/\n",
    "        self.age = age\n",
    "\n",
    "    def bark(self):\n",
    "        print(\"Woof! My name is\", self.name, \"and I'm\", self.age, \"years old.\")\n",
    "        \n",
    "In this example, we defined a Dog class with a constructor (__init__) and a method bark. \n",
    "The constructor takes two arguments, name and age, and initializes two instance variables\n",
    "(self.name and self.age) with these values.The bark method simply prints a message with\n",
    "the dog's name and age.        \n",
    "\n",
    "The self parameter in the constructor and methods refers to the instance of the class that \n",
    "is being created or called.It allows you to access instance variables and methods within the class.\n",
    "\n",
    "   "
   ]
  },
  {
   "cell_type": "code",
   "execution_count": null,
   "id": "2fda57e9",
   "metadata": {},
   "outputs": [],
   "source": [
    "# question 23:Write a Python class named Rectangle constructed by a length and width and a method which will compute the area of a rectangle\n",
    "\n",
    "\n",
    "class Rectangle():\n",
    "    def __init__(self, l, w):\n",
    "        self.length = l\n",
    "        self.width  = w\n",
    "\n",
    "    def rectangle_area(self):\n",
    "        return self.length*self.width\n",
    "\n",
    "newRectangle = Rectangle(12, 10)\n",
    "print(newRectangle.rectangle_area())\n",
    "\n"
   ]
  },
  {
   "cell_type": "code",
   "execution_count": null,
   "id": "203afd29",
   "metadata": {},
   "outputs": [],
   "source": [
    "# question 24:Write a Python class named Circle constructed by a radius and two methods which will \n",
    "#compute the area and the perimeter of a circle\n",
    "\n",
    "class Circle():\n",
    "    def __init__(self, r):\n",
    "        self.radius = r\n",
    "\n",
    "    def area(self):\n",
    "        return self.radius**2*3.14\n",
    "    \n",
    "    def perimeter(self):\n",
    "        return 2*self.radius*3.14\n",
    "\n",
    "NewCircle = Circle(8)\n",
    "print(NewCircle.area())\n",
    "print(NewCircle.perimeter())\n"
   ]
  },
  {
   "cell_type": "code",
   "execution_count": null,
   "id": "bb45bbe5",
   "metadata": {},
   "outputs": [],
   "source": [
    "# question 25:Explain Inheritance in Python with an example? What is init? Or What Is A Constructor In Python?\n",
    "\n",
    "# Inheritance is a concept in object-oriented programming (OOP) where one class \n",
    "# (called the child or subclass) can inherit the attributes and methods of another\n",
    "# class (called the parent or superclass).\n",
    "# The child class can then use these inherited attributes and methods,\n",
    "# as well as add new attributes and methods of its own.\n",
    "\n",
    "\n",
    "# he __init__ method in Python is a special method that gets called when an instance of a class is created. \n",
    "# It is used to initialize the attributes of the instance with the values passed to the constructor.\n",
    "\n",
    "class Animal:\n",
    "    name = \"\"\n",
    "    \n",
    "    def eat(self):\n",
    "        print(\"I can eat\")\n",
    "class Dog(Animal):\n",
    "    def display(self):\n",
    "        print(\"My name is \", self.name)\n",
    "\n",
    "labrador = Dog()\n",
    "labrador.name = \"maggie\"\n",
    "labrador.eat()\n",
    "labrador.display()"
   ]
  },
  {
   "cell_type": "code",
   "execution_count": null,
   "id": "2decedc7",
   "metadata": {},
   "outputs": [],
   "source": [
    "# question 26:What is Instantiation in terms of OOP terminology?\n",
    "\n",
    "Instantiation is a term used in object-oriented programming (OOP) to refer to the process\n",
    "of creating an instance of a class. In simpler terms, it means creating an object from a class.\n",
    "\n",
    "When a class is defined, it serves as a blueprint for creating objects of that class. \n",
    "An object is created by calling the class name.\n",
    "    "
   ]
  },
  {
   "cell_type": "code",
   "execution_count": null,
   "id": "16b00a0e",
   "metadata": {},
   "outputs": [],
   "source": [
    "# question 27:What is used to check whether an object o is an instance of class A?\n",
    "\n",
    "In Python, you can use the isinstance() function to check whether an object is an instance of a particular class.\n",
    "The isinstance() function takes two arguments: the object you want to check, and the class you want to check against."
   ]
  },
  {
   "cell_type": "code",
   "execution_count": null,
   "id": "dfd50cf8",
   "metadata": {},
   "outputs": [],
   "source": [
    "# question 28:What relationship is appropriate for Course and Faculty?\n",
    "\n",
    "The appropriate relationship between the Course and Faculty classes would be a many-to-many relationship,\n",
    "where a course can have many faculty members and a faculty member can teach multiple courses."
   ]
  },
  {
   "cell_type": "code",
   "execution_count": null,
   "id": "cd7933a5",
   "metadata": {},
   "outputs": [],
   "source": [
    "# question29:question What relationship is appropriate for Student and Person?\n",
    "\n",
    "The appropriate relationship between the student and person would be inheritance."
   ]
  }
 ],
 "metadata": {
  "kernelspec": {
   "display_name": "Python 3 (ipykernel)",
   "language": "python",
   "name": "python3"
  },
  "language_info": {
   "codemirror_mode": {
    "name": "ipython",
    "version": 3
   },
   "file_extension": ".py",
   "mimetype": "text/x-python",
   "name": "python",
   "nbconvert_exporter": "python",
   "pygments_lexer": "ipython3",
   "version": "3.9.12"
  }
 },
 "nbformat": 4,
 "nbformat_minor": 5
}
