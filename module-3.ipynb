{
 "cells": [
  {
   "cell_type": "code",
   "execution_count": null,
   "id": "126e0a0c",
   "metadata": {},
   "outputs": [],
   "source": [
    "                                     module - 3"
   ]
  },
  {
   "cell_type": "code",
   "execution_count": null,
   "id": "dbb86564",
   "metadata": {},
   "outputs": [],
   "source": [
    "# questiobn 1: What is List? How will you reverse a list?\n",
    "# In python, a list is a type of sequence data structure that can hold an ordered\n",
    "# collect which can be of any type(such as numbers, strings,or other objects).\n",
    "\n",
    "# list are created using square brackets, and the elements are separated by commas.\n",
    "\n",
    "# revers a list->for a reverse a list in python you can use reverse method \n",
    "# like mylist.reverse()"
   ]
  },
  {
   "cell_type": "code",
   "execution_count": 1,
   "id": "d7c121ae",
   "metadata": {},
   "outputs": [
    {
     "data": {
      "text/plain": [
       "35"
      ]
     },
     "execution_count": 1,
     "metadata": {},
     "output_type": "execute_result"
    }
   ],
   "source": [
    "# question:2 how will you remove last object from a list?.\n",
    "# suppose list1 is [2,33,555,34,adn 35],what is list[-1]?\n",
    "\n",
    "list1=[2,33,555,34,35]\n",
    "list1.pop()\n",
    "\n",
    "# what is list[-1]?\n",
    "\n",
    "list1=[2,33,555,34,35]\n",
    "list1[-1]"
   ]
  },
  {
   "cell_type": "code",
   "execution_count": null,
   "id": "83e40042",
   "metadata": {},
   "outputs": [],
   "source": [
    "#Question 3: Differentiate between append () and extend () methods?\n",
    "\n",
    "#append()\n",
    "The append() method adds a single element to the end of a list. \n",
    "The element can be of any type, and it will be added as a new item in the list.\n",
    "\n",
    "#extend()\n",
    "The extend() method add multiple elements to the end of a list. \n",
    "It takes an iterable (such as a list, tuple, or string) as its argument, and adds each element in the iterable \n",
    "as a new item in the list."
   ]
  },
  {
   "cell_type": "code",
   "execution_count": 2,
   "id": "a8b9da81",
   "metadata": {},
   "outputs": [
    {
     "name": "stdout",
     "output_type": "stream",
     "text": [
      "100\n",
      "1\n",
      "188\n"
     ]
    }
   ],
   "source": [
    "#Question 4: Write a Python function to get the largest number, smallest num and sum of all from a list.\n",
    "\n",
    "lst=[10,5,15,7,50,100,1]\n",
    "print(max(lst))\n",
    "print(min(lst))\n",
    "print(sum(lst))"
   ]
  },
  {
   "cell_type": "code",
   "execution_count": null,
   "id": "857af4ec",
   "metadata": {},
   "outputs": [],
   "source": [
    "#Question 5: How will you compare two lists?\n",
    "\n",
    "You can compare two lists for equality using the == operator. \n",
    "This will return True if the two lists have the same elements in the same order, and otherwise False . "
   ]
  },
  {
   "cell_type": "code",
   "execution_count": 3,
   "id": "2cbba632",
   "metadata": {},
   "outputs": [
    {
     "name": "stdout",
     "output_type": "stream",
     "text": [
      "0\n"
     ]
    }
   ],
   "source": [
    "#Question 6: Write a Python program to count the number of strings where the string length is 2 or more \n",
    "#and the first and last character are same from a given list of strings.\n",
    "\n",
    "def match_words(words):  \n",
    "    ctr = 0  \n",
    "  \n",
    "    for word in words:  \n",
    "        if len(word) > 1 and word[0] == word[-1]:  \n",
    "            ctr += 1  \n",
    "        return ctr  \n",
    "print(match_words(['abc', 'xyz', 'aba', '1221'])) "
   ]
  },
  {
   "cell_type": "code",
   "execution_count": 4,
   "id": "82e9605d",
   "metadata": {},
   "outputs": [
    {
     "name": "stdout",
     "output_type": "stream",
     "text": [
      "[1, 2, 3, 4, 5, 133, 454, 100, 11, 12, 666]\n"
     ]
    }
   ],
   "source": [
    "#Question 7 : Write a Python program to remove duplicates from a list.\n",
    "\n",
    "list1=[11,5,3,133,3,2,2,2,3,3,3,4,4,4,4,454,100,666,1,1,12]\n",
    "a=set(list1)\n",
    "b=list(a)\n",
    "print(b)"
   ]
  },
  {
   "cell_type": "code",
   "execution_count": 5,
   "id": "f625af32",
   "metadata": {},
   "outputs": [
    {
     "name": "stdout",
     "output_type": "stream",
     "text": [
      "The List is not empty\n"
     ]
    }
   ],
   "source": [
    "#Question 8 : Write a Python program to check a list is empty or not.\n",
    "\n",
    "list1=[1,5,4,3.5,'tiger',True]\n",
    "if len(list1)==0:\n",
    "    print('The List is empty')\n",
    "else:\n",
    "    print('The List is not empty')"
   ]
  },
  {
   "cell_type": "code",
   "execution_count": 6,
   "id": "9d863619",
   "metadata": {},
   "outputs": [
    {
     "name": "stdout",
     "output_type": "stream",
     "text": [
      "True\n"
     ]
    }
   ],
   "source": [
    "#Question 9 : Write a Python function that takes two lists and returns true if they have at least one common member.\n",
    "\n",
    "def has_common_member(list1, list2):\n",
    "    for item in list1:\n",
    "        if item in list2:\n",
    "            return True\n",
    "    return False\n",
    "\n",
    "list1 = [1, 2, 3, 4, 5]\n",
    "list2 = [6, 2, 8, 9, 10]\n",
    "result1 = has_common_member(list1, list2)\n",
    "\n",
    "print(result1)"
   ]
  },
  {
   "cell_type": "code",
   "execution_count": 7,
   "id": "fde36bf7",
   "metadata": {},
   "outputs": [
    {
     "name": "stdout",
     "output_type": "stream",
     "text": [
      "First 5 elements:\n",
      "[1, 4, 9, 16, 25]\n",
      "Last 5 elements:\n",
      "[676, 729, 784, 841, 900]\n"
     ]
    }
   ],
   "source": [
    "#Question 10 : Write a Python program to generate and print a list of first and last 5 elements \n",
    "# where the values are square of numbers between 1 and 30\n",
    "\n",
    "my_list = [i**2 for i in range(1, 31)]\n",
    "\n",
    "# Print the first 5 elements\n",
    "print(\"First 5 elements:\")\n",
    "print(my_list[:5])\n",
    "\n",
    "# Print the last 5 elements\n",
    "print(\"Last 5 elements:\")\n",
    "print(my_list[-5:])"
   ]
  },
  {
   "cell_type": "code",
   "execution_count": null,
   "id": "b34d712d",
   "metadata": {},
   "outputs": [],
   "source": [
    "# Question 10: Write a Python function that takes a list and returns a new list with unique elements of the first list.\n",
    "\n",
    "lst=[11,5,3,133,3,2,2,2,3,3,3,4,4,4,4,454,100,666,1,1,12]\n",
    "a=set(lst)\n",
    "my_set=a\n",
    "my_list=list(my_set)\n",
    "print(my_list)\n"
   ]
  },
  {
   "cell_type": "code",
   "execution_count": 8,
   "id": "9b7a31f5",
   "metadata": {},
   "outputs": [
    {
     "name": "stdout",
     "output_type": "stream",
     "text": [
      "Hellohi\n"
     ]
    }
   ],
   "source": [
    "#Question 12: Write a Python program to convert a list of characters into a string.\n",
    "\n",
    "# Define a list of characters\n",
    "char_list = ['H', 'e', 'l', 'l', 'o', 'h', 'i']\n",
    "string = ''.join(char_list)\n",
    "print(string)"
   ]
  },
  {
   "cell_type": "code",
   "execution_count": 9,
   "id": "3ca5f1cc",
   "metadata": {},
   "outputs": [
    {
     "name": "stdout",
     "output_type": "stream",
     "text": [
      "pear\n"
     ]
    }
   ],
   "source": [
    "#Question 13: Write a Python program to select an item randomly from a list.\n",
    "\n",
    "import random\n",
    "items = ['apple', 'banana', 'orange', 'pear', 'grape']\n",
    "random_item = random.choice(items)\n",
    "print(random_item)"
   ]
  },
  {
   "cell_type": "code",
   "execution_count": 10,
   "id": "f8cd6c43",
   "metadata": {},
   "outputs": [
    {
     "name": "stdout",
     "output_type": "stream",
     "text": [
      "this is small: 3\n"
     ]
    }
   ],
   "source": [
    "#Question 14: Write a Python program to find the second smallest number in a list.\n",
    "\n",
    "lst=[11,5,3,133,3,54,100,666,1,12]\n",
    "lst.sort()\n",
    "a=lst[1]\n",
    "print('this is small:',a)\n"
   ]
  },
  {
   "cell_type": "code",
   "execution_count": 11,
   "id": "5adaa436",
   "metadata": {},
   "outputs": [
    {
     "name": "stdout",
     "output_type": "stream",
     "text": [
      "[1, 2, 3, 4, 5, 133, 454, 100, 11, 12, 666]\n"
     ]
    }
   ],
   "source": [
    "#Question 15: Write a Python program to get unique values from a list\n",
    "\n",
    "lst=[11,5,3,133,3,2,2,2,3,3,3,4,4,4,4,454,100,666,1,1,12]\n",
    "a=set(lst)\n",
    "b=a\n",
    "my_list=list(b)\n",
    "print(my_list)\n"
   ]
  },
  {
   "cell_type": "code",
   "execution_count": 12,
   "id": "c1024b0d",
   "metadata": {},
   "outputs": [
    {
     "name": "stdout",
     "output_type": "stream",
     "text": [
      "The list contains the sub list\n"
     ]
    }
   ],
   "source": [
    "#Question 16: Write a Python program to check whether a list contains a sub list\n",
    "\n",
    "my_list = [1, 2, 3, [4, 5], 6, 7]\n",
    "sub_list = [4, 5]\n",
    "if sub_list in my_list:\n",
    "    print(\"The list contains the sub list\")\n",
    "else:\n",
    "    print(\"The list does not contain the sub list\")\n"
   ]
  },
  {
   "cell_type": "code",
   "execution_count": 13,
   "id": "9cc85652",
   "metadata": {},
   "outputs": [
    {
     "name": "stdout",
     "output_type": "stream",
     "text": [
      "1\n",
      "2\n",
      "3\n",
      "4\n",
      "5\n"
     ]
    }
   ],
   "source": [
    "#Question 17: Write a Python program to split a list into different variables.\n",
    " \n",
    "\n",
    "my_list = [1, 2, 3, 4, 5]\n",
    "\n",
    "a, b, c, d, e = my_list\n",
    "\n",
    "print(a)\n",
    "print(b)\n",
    "print(c)\n",
    "print(d)\n",
    "print(e)"
   ]
  },
  {
   "cell_type": "code",
   "execution_count": null,
   "id": "e59fc09c",
   "metadata": {},
   "outputs": [],
   "source": [
    "#Question 18: What is tuple? Difference between list and tuple.\n",
    "\n",
    "Tuples are an immutable data type, which means that once they have been generated, \n",
    "their elements cannot be changed.\n",
    "Since tuples are ordered sequences, each element has a specific order that will never change.\n",
    "\n",
    "#Difference between list and tuple.\n",
    "\n",
    "Tuples are defined using parentheses, whereas lists are defined using square brackets. \n",
    "For example, a tuple might look like (1, 2, 3) while a list might look like [1, 2, 3].\n",
    "\n",
    "Once a tuple is created, you can't add or remove elements from it or change the values of its elements. Tuples are immutable.\n",
    " \n",
    "Lists are mutable and can be modified after they are created."
   ]
  },
  {
   "cell_type": "code",
   "execution_count": 15,
   "id": "af75bf0d",
   "metadata": {},
   "outputs": [
    {
     "name": "stdout",
     "output_type": "stream",
     "text": [
      "('apple', 1, 2.5, True)\n"
     ]
    }
   ],
   "source": [
    "#Question 19: Write a Python program to create a tuple with different data types.\n",
    "\n",
    "\n",
    "my_tuple = (\"apple\", 1, 2.5, True)\n",
    "print(my_tuple)\n"
   ]
  },
  {
   "cell_type": "code",
   "execution_count": 16,
   "id": "77a4a3e6",
   "metadata": {},
   "outputs": [
    {
     "name": "stdout",
     "output_type": "stream",
     "text": [
      "(1, 2, 3, 4, 5)\n"
     ]
    }
   ],
   "source": [
    "#Question 20: Write a Python program to create a tuple with numbers.\n",
    "\n",
    "my_tuple = (1, 2, 3, 4, 5)\n",
    "print(my_tuple)\n",
    " \n"
   ]
  },
  {
   "cell_type": "code",
   "execution_count": 17,
   "id": "393a8abd",
   "metadata": {},
   "outputs": [
    {
     "name": "stdout",
     "output_type": "stream",
     "text": [
      "python\n"
     ]
    }
   ],
   "source": [
    "#Question 21:write a python program to convert a tuple to string.\n",
    "\n",
    "my_tuple = ('p', 'y', 't', 'h', 'o','n')\n",
    "my_string = ''.join(my_tuple)\n",
    "\n",
    "print(my_string)"
   ]
  },
  {
   "cell_type": "code",
   "execution_count": 18,
   "id": "c5ea3ff9",
   "metadata": {},
   "outputs": [
    {
     "name": "stdout",
     "output_type": "stream",
     "text": [
      "True\n",
      "False\n"
     ]
    }
   ],
   "source": [
    "# question 22:write a python program to check whether an element exists within a tuple.\n",
    "\n",
    "tup1 = (\"h\", \"e\", \"m\", \"l\", \"a\", \"t\", \"a\")\n",
    "print(\"e\" in tup1)\n",
    "print(5 in tup1)\n"
   ]
  },
  {
   "cell_type": "code",
   "execution_count": 19,
   "id": "e14d63e9",
   "metadata": {},
   "outputs": [
    {
     "name": "stdout",
     "output_type": "stream",
     "text": [
      "7\n"
     ]
    }
   ],
   "source": [
    "#question 23:write python program to find length of a tuple.\n",
    "\n",
    "tup1= (2, 22, 44, 66, 88, 122, 142)\n",
    "\n",
    "lt = len(tup1)\n",
    "print(lt)"
   ]
  },
  {
   "cell_type": "code",
   "execution_count": 20,
   "id": "b8d4ae94",
   "metadata": {},
   "outputs": [
    {
     "name": "stdout",
     "output_type": "stream",
     "text": [
      "(5, 10, 7, 4, 15, 3)\n"
     ]
    }
   ],
   "source": [
    "#question 24:write a python program to convert list to tuple.\n",
    "\n",
    "list1 = [5, 10, 7, 4, 15, 3]\n",
    "tup1 = tuple(list1)\n",
    "print(tup1)\n"
   ]
  },
  {
   "cell_type": "code",
   "execution_count": 21,
   "id": "fc86f2f2",
   "metadata": {},
   "outputs": [
    {
     "name": "stdout",
     "output_type": "stream",
     "text": [
      "(3, 2, 1, 0)\n"
     ]
    }
   ],
   "source": [
    "#question 25: write a python program to reverse a tuple.\n",
    "\n",
    "t = (0, 1, 2, 3)\n",
    "\n",
    "t_reversed = t[::-1]\n",
    "\n",
    "print(t_reversed)"
   ]
  },
  {
   "cell_type": "code",
   "execution_count": 22,
   "id": "958e661e",
   "metadata": {},
   "outputs": [
    {
     "name": "stdout",
     "output_type": "stream",
     "text": [
      "[(10, 20, 100), (40, 50, 100), (70, 80, 100)]\n"
     ]
    }
   ],
   "source": [
    "# question 26:write a python program to replace last value of tuple in a list.\n",
    "\n",
    "l1 = [(10, 20, 40), (40, 50, 60), (70, 80, 90)]\n",
    "print([t1[:-1] + (100,) for t1 in l1])"
   ]
  },
  {
   "cell_type": "code",
   "execution_count": 23,
   "id": "6135a9ff",
   "metadata": {},
   "outputs": [
    {
     "name": "stdout",
     "output_type": "stream",
     "text": [
      "The repeated items in the tuple are: ()\n"
     ]
    }
   ],
   "source": [
    "# question 27:write a python program to find the repeated items of a tuple.\n",
    "\n",
    "tup1 = (1, 2, 3, 4, 5, 2, 4, 6)\n",
    "\n",
    "repeated_items = []\n",
    "for item in tup1:\n",
    "    if my_tuple.count(item) > 1 and item not in repeated_items:\n",
    "        repeated_items.append(item)\n",
    "print(\"The repeated items in the tuple are:\", tuple(repeated_items))"
   ]
  },
  {
   "cell_type": "code",
   "execution_count": 24,
   "id": "7c22e772",
   "metadata": {},
   "outputs": [
    {
     "name": "stdout",
     "output_type": "stream",
     "text": [
      "[('Studytonight', '1', '2'), ('3', '4', '5', '6')]\n"
     ]
    }
   ],
   "source": [
    "def removet(li):\n",
    "    li=[ num for num in li if num]\n",
    "    return li\n",
    "li=[ (), ('Studytonight', '1', '2'), (), ('3', '4', '5', '6') ]\n",
    "print(removet(li))\n"
   ]
  },
  {
   "cell_type": "code",
   "execution_count": 25,
   "id": "4ab6c51c",
   "metadata": {},
   "outputs": [
    {
     "name": "stdout",
     "output_type": "stream",
     "text": [
      "[(1, 3, 8), (2, 4, 9)]\n"
     ]
    }
   ],
   "source": [
    "# question 29:Write a Python program to unzip a list of tuples into individual lists.\n",
    "\n",
    "list1 = [(1,2), (3,4), (8,9)]\n",
    "print(list(zip(*list1)))\n"
   ]
  },
  {
   "cell_type": "code",
   "execution_count": 26,
   "id": "3e52752d",
   "metadata": {},
   "outputs": [
    {
     "name": "stdout",
     "output_type": "stream",
     "text": [
      "{'akash': [10], 'gaurav': [12], 'anand': [14], 'suraj': [20], 'akhil': [25], 'ashish': [30]}\n"
     ]
    }
   ],
   "source": [
    "# question 30:Write a Python program to convert a list of tuples into a dictionary.\n",
    "\n",
    "def Convert(tup, di):\n",
    "    for a, b in tup:\n",
    "        di.setdefault(a, []).append(b)\n",
    "    return di\n",
    " \n",
    "tups = [(\"akash\", 10), (\"gaurav\", 12), (\"anand\", 14),\n",
    "        (\"suraj\", 20), (\"akhil\", 25), (\"ashish\", 30)]\n",
    "dictionary = {}\n",
    "print(Convert(tups, dictionary))"
   ]
  },
  {
   "cell_type": "code",
   "execution_count": null,
   "id": "d18279e7",
   "metadata": {},
   "outputs": [],
   "source": [
    "#Question 31: How will you create a dictionary using tuples in python?\n",
    "\n",
    "To create a dictionary using tuples in Python, you can use the built-in dict() function. \n",
    "The dict() function can take a list of tuples as an argument, where each tuple contains a \n",
    "key-value pair that will be added to the dictionary."
   ]
  },
  {
   "cell_type": "code",
   "execution_count": 27,
   "id": "321a06eb",
   "metadata": {},
   "outputs": [
    {
     "name": "stdout",
     "output_type": "stream",
     "text": [
      "Ascending order is [('alan', 2), ('bob', 1), ('carl', 40), ('danny', 3)]\n",
      "Descending order is [('danny', 3), ('carl', 40), ('bob', 1), ('alan', 2)]\n",
      "Dictionary {'danny': 3, 'carl': 40, 'bob': 1, 'alan': 2}\n"
     ]
    }
   ],
   "source": [
    "#Question 32: Write a Python script to sort (ascending and descending) a dictionary by value.\n",
    "\n",
    "y={'carl':40,'alan':2,'bob':1,'danny':3} \n",
    "                                         \n",
    "l=list(y.items())  \n",
    "l.sort()            \n",
    "print('Ascending order is',l) \n",
    "\n",
    "l=list(y.items())\n",
    "l.sort(reverse=True)\n",
    "print('Descending order is',l)\n",
    "\n",
    "dict=dict(l)\n",
    "print(\"Dictionary\",dict) "
   ]
  },
  {
   "cell_type": "code",
   "execution_count": 28,
   "id": "30830acf",
   "metadata": {},
   "outputs": [
    {
     "name": "stdout",
     "output_type": "stream",
     "text": [
      "{1: 10, 2: 20, 3: 30, 4: 40, 5: 50, 6: 60}\n"
     ]
    }
   ],
   "source": [
    "# question 33:Write a Python script to concatenate following dictionaries to create a new one.\n",
    "\n",
    "dic1={1:10, 2:20}\n",
    "dic2={3:30, 4:40}\n",
    "dic3={5:50,6:60}\n",
    "dic4 = {}\n",
    "for d in (dic1, dic2, dic3): dic4.update(d)\n",
    "print(dic4)\n"
   ]
  },
  {
   "cell_type": "code",
   "execution_count": 29,
   "id": "276ee5a8",
   "metadata": {},
   "outputs": [
    {
     "name": "stdout",
     "output_type": "stream",
     "text": [
      "apple exists in the dictionary.\n"
     ]
    }
   ],
   "source": [
    "# question 34:Write a Python script to check if a given key already exists in a dictionary.\n",
    "\n",
    "dict1 = { 'apple': 1, 'banana': 2, 'orange': 3 }\n",
    "\n",
    "key = 'apple'\n",
    "if key in dict1:\n",
    "    print(f\"{key} exists in the dictionary.\")\n",
    "else:\n",
    "    print(f\"{key} does not exist in the dictionary.\")"
   ]
  },
  {
   "cell_type": "code",
   "execution_count": 30,
   "id": "20fd1109",
   "metadata": {},
   "outputs": [
    {
     "name": "stdout",
     "output_type": "stream",
     "text": [
      "The key is: site\n",
      "The value is: tecbeamers.com\n",
      "++++++++++++++++++++++++\n",
      "The key is: traffic\n",
      "The value is: 10000\n",
      "++++++++++++++++++++++++\n",
      "The key is: type\n",
      "The value is: organic\n",
      "++++++++++++++++++++++++\n"
     ]
    }
   ],
   "source": [
    "# question 35:How Do You Traverse Through A Dictionary Object In Python?\n",
    "\n",
    "site_stats = {'site': 'tecbeamers.com', 'traffic': 10000, \"type\": \"organic\"}\n",
    "for k, v in site_stats.items():\n",
    "\n",
    "    print(\"The key is: %s\" % k)\n",
    "\n",
    "    print(\"The value is: %s\" % v)\n",
    "\n",
    "    print(\"++++++++++++++++++++++++\")\n"
   ]
  },
  {
   "cell_type": "code",
   "execution_count": null,
   "id": "eb86c1b1",
   "metadata": {},
   "outputs": [],
   "source": [
    "#Question 36: How Do You Check The Presence Of A Key In A Dictionary?\n",
    "\n",
    "In Python, you can check the presence of a key in a dictionary using the in operator or the get() method. "
   ]
  },
  {
   "cell_type": "code",
   "execution_count": 31,
   "id": "25181e12",
   "metadata": {},
   "outputs": [
    {
     "name": "stdout",
     "output_type": "stream",
     "text": [
      "{1: 'value 1', 2: 'value 2', 3: 'value 3', 4: 'value 4', 5: 'value 5', 6: 'value 6', 7: 'value 7', 8: 'value 8', 9: 'value 9', 10: 'value 10', 11: 'value 11', 12: 'value 12', 13: 'value 13', 14: 'value 14', 15: 'value 15'}\n"
     ]
    }
   ],
   "source": [
    "# question 37:Write a Python script to print a dictionary where the keys are numbers between 1 and 15.\n",
    "\n",
    "dict1 = {}\n",
    "\n",
    "for i in range(1, 16):\n",
    "    dict1[i] = f\"value {i}\"\n",
    "\n",
    "print(dict1)"
   ]
  },
  {
   "cell_type": "code",
   "execution_count": 32,
   "id": "498580f3",
   "metadata": {},
   "outputs": [
    {
     "name": "stdout",
     "output_type": "stream",
     "text": [
      "True\n",
      "False\n",
      "True\n"
     ]
    }
   ],
   "source": [
    "# question 38: Write a Python program to check multiple keys exists in a dictionary.\n",
    "\n",
    "student = {'name': 'hemlata','class': 'V','roll_id': '2'}\n",
    "print(student.keys() >= {'class', 'name'})\n",
    "print(student.keys() >= {'name', 'hemlata'})\n",
    "print(student.keys() >= {'roll_id', 'name'})"
   ]
  },
  {
   "cell_type": "code",
   "execution_count": 33,
   "id": "df44a2d7",
   "metadata": {},
   "outputs": [
    {
     "name": "stdout",
     "output_type": "stream",
     "text": [
      "{'a': 100, 'b': 200, 'x': 300, 'y': 200}\n"
     ]
    }
   ],
   "source": [
    "# question 39:Write a Python script to merge two Python dictionaries.\n",
    "\n",
    "d1 = {'a': 100, 'b': 200}\n",
    "d2 = {'x': 300, 'y': 200}\n",
    "d = d1.copy()\n",
    "d.update(d2)\n",
    "print(d)"
   ]
  },
  {
   "cell_type": "code",
   "execution_count": 37,
   "id": "93e15f46",
   "metadata": {},
   "outputs": [
    {
     "name": "stdout",
     "output_type": "stream",
     "text": [
      "Original key list is : ['Rash', 'Kil', 'Varsha']\n",
      "Original value list is : [1, 4, 5]\n",
      "Resultant dictionary is : {'Rash': 1, 'Kil': 4, 'Varsha': 5}\n"
     ]
    }
   ],
   "source": [
    "# question 40:Write a Python program to map two lists into a dictionary\n",
    "\n",
    "test_keys = [\"Rash\", \"Kil\", \"Varsha\"]\n",
    "test_values = [1, 4, 5]\n",
    " \n",
    "\n",
    "print(\"Original key list is : \" + str(test_keys))\n",
    "print(\"Original value list is : \" + str(test_values))\n",
    " \n",
    "\n",
    "res = {test_keys[i]: test_values[i] for i in range(len(test_keys))}\n",
    " \n",
    "\n",
    "print(\"Resultant dictionary is : \" + str(res))"
   ]
  },
  {
   "cell_type": "code",
   "execution_count": 36,
   "id": "8749dddb",
   "metadata": {},
   "outputs": [
    {
     "name": "stdout",
     "output_type": "stream",
     "text": [
      "{'a': 400, 'b': 400, 'd': 400}\n"
     ]
    }
   ],
   "source": [
    "# question 41:Write a Python program to combine two dictionary adding values for \n",
    "\n",
    "\n",
    "d1 = {'a': 100, 'b': 200, 'c':300}\n",
    "d2 = {'a': 300, 'b': 200,'d':400}\n",
    "\n",
    "for key in d2:\n",
    "    if key in d1:\n",
    "        d2[key] = d2[key] + d1[key]\n",
    "    else:\n",
    "        pass\n",
    "         \n",
    "print(d2)\n",
    "\n"
   ]
  },
  {
   "cell_type": "code",
   "execution_count": 38,
   "id": "c68d2afe",
   "metadata": {},
   "outputs": [
    {
     "name": "stdout",
     "output_type": "stream",
     "text": [
      "Unique values in the dictionary are:\n",
      "1\n",
      "2\n",
      "3\n",
      "4\n"
     ]
    }
   ],
   "source": [
    "# question 42:Write a Python program to print all unique values in a dictionary.\n",
    "\n",
    "dict1 = {'a': 1, 'b': 2, 'c': 3, 'd': 2, 'e': 4, 'f': 3}\n",
    "\n",
    "unique_values = set(dict1.values())\n",
    "\n",
    "print(\"Unique values in the dictionary are:\")\n",
    "for value in unique_values:\n",
    "    print(value)\n"
   ]
  },
  {
   "cell_type": "code",
   "execution_count": 39,
   "id": "f7c0bb64",
   "metadata": {},
   "outputs": [
    {
     "ename": "SyntaxError",
     "evalue": "invalid syntax (3527606090.py, line 3)",
     "output_type": "error",
     "traceback": [
      "\u001b[1;36m  Input \u001b[1;32mIn [39]\u001b[1;36m\u001b[0m\n\u001b[1;33m    The zip() method is a built-in function in Python that is used to combine multiple iterables into a single iterable object.\u001b[0m\n\u001b[1;37m        ^\u001b[0m\n\u001b[1;31mSyntaxError\u001b[0m\u001b[1;31m:\u001b[0m invalid syntax\n"
     ]
    }
   ],
   "source": [
    "# question 43:Why Do You Use the Zip () Method in Python?\n",
    "\n",
    "The zip() method is a built-in function in Python that is used to combine multiple iterables into a single iterable object. \n",
    "It takes one or more iterables (such as lists, tuples, or strings) as arguments, \n",
    "and returns an iterator of tuples where the i-th tuple contains the i-th element from each of the input iterables."
   ]
  },
  {
   "cell_type": "code",
   "execution_count": 40,
   "id": "0d6a39ac",
   "metadata": {},
   "outputs": [
    {
     "name": "stdout",
     "output_type": "stream",
     "text": [
      "ac\n",
      "ad\n",
      "bc\n",
      "bd\n"
     ]
    }
   ],
   "source": [
    "# question 44:Write a Python program to create and display all combinations of letters,\n",
    "# selecting each letter from a different key in a dictionary.\n",
    "\n",
    "d ={'1':['a','b'], '2':['c','d']}\n",
    "\n",
    "for x in d['1']:\n",
    "    for y in d['2']:\n",
    "        print(x + y)"
   ]
  },
  {
   "cell_type": "code",
   "execution_count": 41,
   "id": "4dfdea2b",
   "metadata": {},
   "outputs": [
    {
     "name": "stdout",
     "output_type": "stream",
     "text": [
      "Dictionary with 3 highest values:\n",
      "Keys : Values\n",
      "S  :  99  \n",
      "R  :  32  \n",
      "U  :  22  \n"
     ]
    }
   ],
   "source": [
    "# question 45:Write a Python program to find the highest 3 values in a dictionary\n",
    "\n",
    "from collections import Counter\n",
    "\n",
    "my_dict = {'T': 23, 'U': 22, 'T': 21,'O': 20, 'R': 32, 'S': 99}\n",
    "k = Counter(my_dict)\n",
    "\n",
    "high = k.most_common(3)\n",
    "print(\"Dictionary with 3 highest values:\")\n",
    "print(\"Keys : Values\")\n",
    "for i in high:\n",
    "    print(i[0],\" : \",i[1],\" \")"
   ]
  },
  {
   "cell_type": "code",
   "execution_count": 42,
   "id": "31041613",
   "metadata": {},
   "outputs": [
    {
     "name": "stdout",
     "output_type": "stream",
     "text": [
      "Counter({'item1': 1150, 'item2': 300})\n"
     ]
    }
   ],
   "source": [
    "# question 46:Write a Python program to combine values in python list of dictionaries. \n",
    "\n",
    "\n",
    "from collections import Counter\n",
    "item_list = [{'item': 'item1', 'amount': 400}, {'item': 'item2', 'amount': 300}, {'item': 'item1', 'amount': 750}]\n",
    "result = Counter()\n",
    "for d in item_list:\n",
    "    result[d['item']] += d['amount']\n",
    "print(result) \n",
    "     "
   ]
  },
  {
   "cell_type": "code",
   "execution_count": 43,
   "id": "03988ff3",
   "metadata": {},
   "outputs": [
    {
     "name": "stdout",
     "output_type": "stream",
     "text": [
      "{'w': 1, '3': 1, 'r': 2, 'e': 2, 's': 1, 'o': 1, 'u': 1, 'c': 1}\n"
     ]
    }
   ],
   "source": [
    "# question 47:Write a Python program to create a dictionary from a string.\n",
    "\n",
    "string = 'w3resource'\n",
    "\n",
    "result = {}\n",
    "\n",
    "for char in string:\n",
    "    if char in result:\n",
    "        result[char] += 1\n",
    "    else:\n",
    "        result[char] = 1\n",
    "\n",
    "print(result)\n"
   ]
  },
  {
   "cell_type": "code",
   "execution_count": 44,
   "id": "cf97a697",
   "metadata": {},
   "outputs": [
    {
     "data": {
      "text/plain": [
       "120"
      ]
     },
     "execution_count": 44,
     "metadata": {},
     "output_type": "execute_result"
    }
   ],
   "source": [
    "# question 48:Write a Python function to calculate the factorial of a number (a non\u0002negative \n",
    "\n",
    "def factorial(n):\n",
    "    if n < 0:\n",
    "        raise ValueError(\"Factorial is only defined for nonnegative integers.\")\n",
    "    if n == 0:\n",
    "        return 1\n",
    "    else:\n",
    "        return n * factorial(n - 1)\n",
    "factorial(5)"
   ]
  },
  {
   "cell_type": "code",
   "execution_count": 45,
   "id": "6991fb65",
   "metadata": {},
   "outputs": [
    {
     "data": {
      "text/plain": [
       "False"
      ]
     },
     "execution_count": 45,
     "metadata": {},
     "output_type": "execute_result"
    }
   ],
   "source": [
    "# question 49:Write a Python function to check whether a number is in a given range.\n",
    "\n",
    "\n",
    "def check_range(num, start, end):\n",
    "    if num in range(start, end+1):\n",
    "        return True\n",
    "    else:\n",
    "        return False\n",
    "check_range(15,1,10)   "
   ]
  },
  {
   "cell_type": "code",
   "execution_count": 46,
   "id": "16dae583",
   "metadata": {},
   "outputs": [
    {
     "name": "stdout",
     "output_type": "stream",
     "text": [
      "True\n"
     ]
    }
   ],
   "source": [
    "# quetion 50:Write a Python function to check whether a number is perfect or not.\n",
    "\n",
    "def perfect_number(n):\n",
    "    sum = 0\n",
    "    for x in range(1, n):\n",
    "        if n % x == 0:\n",
    "            sum += x\n",
    "    return sum == n\n",
    "print(perfect_number(6))"
   ]
  },
  {
   "cell_type": "code",
   "execution_count": 47,
   "id": "5b3e86f1",
   "metadata": {},
   "outputs": [
    {
     "name": "stdout",
     "output_type": "stream",
     "text": [
      "Yes\n"
     ]
    }
   ],
   "source": [
    "# question 51:Write a Python function that checks whether a passed string is palindrome or not.\n",
    "\n",
    "a = \"malayalam\"\n",
    "  \n",
    "b = \"\"\n",
    "for i in a:\n",
    "    b = i + b\n",
    "if (a == b):\n",
    "    print(\"Yes\")\n",
    "    \n",
    "else:\n",
    "    print(\"No\")\n"
   ]
  },
  {
   "cell_type": "code",
   "execution_count": null,
   "id": "c0152984",
   "metadata": {},
   "outputs": [],
   "source": [
    "# question 52:How do you perform pattern matching in Python? Explain.\n",
    "\n",
    "Built-in functions: These are functions that are built into the Python language print(), len(), sum(), type(), etc.\n",
    "User-defined functions: These are functions that are created by users def\n",
    "Anonymous or lambda functions: These are small, single-expression functions and defined using the lambda keyword."
   ]
  },
  {
   "cell_type": "code",
   "execution_count": 48,
   "id": "a95313d6",
   "metadata": {},
   "outputs": [
    {
     "name": "stdout",
     "output_type": "stream",
     "text": [
      "2\n"
     ]
    }
   ],
   "source": [
    "#Question 53: How can you pick a random item from a list or tuple?\n",
    "\n",
    "import random\n",
    "\n",
    "my_list = [1, 2, 3, 4, 5]\n",
    "random_item = random.choice(my_list)\n",
    "\n",
    "print(random_item)"
   ]
  },
  {
   "cell_type": "code",
   "execution_count": 49,
   "id": "75e38265",
   "metadata": {},
   "outputs": [
    {
     "name": "stdout",
     "output_type": "stream",
     "text": [
      "8\n"
     ]
    }
   ],
   "source": [
    "#Question 54: How can you pick a random item from a range?\n",
    "\n",
    "import random\n",
    "\n",
    "random_number = random.randrange(1, 11)\n",
    "\n",
    "print(random_number)"
   ]
  },
  {
   "cell_type": "code",
   "execution_count": 50,
   "id": "79f67c9e",
   "metadata": {},
   "outputs": [
    {
     "name": "stdout",
     "output_type": "stream",
     "text": [
      "17\n"
     ]
    }
   ],
   "source": [
    "#Question 55: How can you get a random number in python?\n",
    "\n",
    "import random\n",
    "\n",
    "random_number = random.randint(1, 100)\n",
    "print(random_number)"
   ]
  },
  {
   "cell_type": "code",
   "execution_count": null,
   "id": "d1639f0d",
   "metadata": {},
   "outputs": [],
   "source": [
    "# question 56:How will you set the starting value in generating random numbers?\n",
    "\n",
    "In Python, you can set the starting value, also known as the seed value, \n",
    "for generating random numbers using the random.seed() function.\n"
   ]
  },
  {
   "cell_type": "code",
   "execution_count": null,
   "id": "44a6f72b",
   "metadata": {},
   "outputs": [],
   "source": [
    "#Question 57: How will you randomizes the items of a list in place?\n",
    "\n",
    "In Python, you can randomize the items of a list in place using the random module and the list method shuffle(). "
   ]
  },
  {
   "cell_type": "code",
   "execution_count": 51,
   "id": "504cd6dd",
   "metadata": {},
   "outputs": [
    {
     "ename": "FileNotFoundError",
     "evalue": "[Errno 2] No such file or directory: 'file.txt'",
     "output_type": "error",
     "traceback": [
      "\u001b[1;31m---------------------------------------------------------------------------\u001b[0m",
      "\u001b[1;31mFileNotFoundError\u001b[0m                         Traceback (most recent call last)",
      "Input \u001b[1;32mIn [51]\u001b[0m, in \u001b[0;36m<cell line: 5>\u001b[1;34m()\u001b[0m\n\u001b[0;32m      1\u001b[0m \u001b[38;5;66;03m#Question 58: Write a Python program to read a random line from a file.\u001b[39;00m\n\u001b[0;32m      3\u001b[0m \u001b[38;5;28;01mimport\u001b[39;00m \u001b[38;5;21;01mrandom\u001b[39;00m\n\u001b[1;32m----> 5\u001b[0m \u001b[38;5;28;01mwith\u001b[39;00m \u001b[38;5;28;43mopen\u001b[39;49m\u001b[43m(\u001b[49m\u001b[38;5;124;43m'\u001b[39;49m\u001b[38;5;124;43mfile.txt\u001b[39;49m\u001b[38;5;124;43m'\u001b[39;49m\u001b[43m,\u001b[49m\u001b[43m \u001b[49m\u001b[38;5;124;43m'\u001b[39;49m\u001b[38;5;124;43mr\u001b[39;49m\u001b[38;5;124;43m'\u001b[39;49m\u001b[43m)\u001b[49m \u001b[38;5;28;01mas\u001b[39;00m f:\n\u001b[0;32m      6\u001b[0m     lines \u001b[38;5;241m=\u001b[39m f\u001b[38;5;241m.\u001b[39mreadlines()\n\u001b[0;32m      7\u001b[0m     random_line \u001b[38;5;241m=\u001b[39m random\u001b[38;5;241m.\u001b[39mchoice(lines)\n",
      "\u001b[1;31mFileNotFoundError\u001b[0m: [Errno 2] No such file or directory: 'file.txt'"
     ]
    }
   ],
   "source": [
    "#Question 58: Write a Python program to read a random line from a file.\n",
    "\n",
    "import random\n",
    "\n",
    "with open('file.txt', 'r') as f:\n",
    "    lines = f.readlines()\n",
    "    random_line = random.choice(lines)\n",
    "    print(random_line)"
   ]
  },
  {
   "cell_type": "code",
   "execution_count": null,
   "id": "c2b3b782",
   "metadata": {},
   "outputs": [],
   "source": [
    "#Question 59: Write a Python program to convert degree to radian\n",
    "\n",
    "import math\n",
    "\n",
    "degrees = 45\n",
    "radians = degrees * math.pi / 180\n",
    "\n",
    "print(radians)"
   ]
  },
  {
   "cell_type": "code",
   "execution_count": null,
   "id": "ca463a9d",
   "metadata": {},
   "outputs": [],
   "source": [
    "#Question 60: Write a Python program to calculate the area of a trapezoid\n",
    "\n",
    "height = 5\n",
    "base1 = 7\n",
    "base2 = 12\n",
    "\n",
    "area = 0.5 * (base1 + base2) * height"
   ]
  },
  {
   "cell_type": "code",
   "execution_count": null,
   "id": "146bca53",
   "metadata": {},
   "outputs": [],
   "source": [
    "#Question 61: Write a Python program to calculate the area of a parallelogram\n",
    "\n",
    "base = 10\n",
    "height = 6\n",
    "\n",
    "area = base * height\n",
    "\n",
    "print(area)\n"
   ]
  },
  {
   "cell_type": "code",
   "execution_count": null,
   "id": "a76013a8",
   "metadata": {},
   "outputs": [],
   "source": [
    "#Question 62: Write a Python program to calculate surface volume and area of a cylinder\n",
    "\n",
    "import math\n",
    "\n",
    "radius = 3\n",
    "height = 8\n",
    "\n",
    "sa = 2 * math.pi * radius * height + 2 * math.pi * radius ** 2\n",
    "print(\"Surface Area:\", sa)\n",
    "\n",
    "v = math.pi * radius ** 2 * height\n",
    "print(\"Volume:\", v)"
   ]
  },
  {
   "cell_type": "code",
   "execution_count": null,
   "id": "425b6df9",
   "metadata": {},
   "outputs": [],
   "source": [
    "##Question 63: Write a Python program to returns sum of all divisors of a number\n",
    "\n",
    "def sum_divisors(n):\n",
    "    divisors = []\n",
    "    for i in range(1, n+1):\n",
    "        if n % i == 0:\n",
    "            divisors.append(i)\n",
    "    return sum(divisors)\n",
    "\n",
    "num = 24\n",
    "print(sum_divisors(num))"
   ]
  },
  {
   "cell_type": "code",
   "execution_count": null,
   "id": "de638a1d",
   "metadata": {},
   "outputs": [],
   "source": [
    "# question 65:Write a Python program to find the maximum and minimum numbers from the specified decimal numbers.\n",
    "\n",
    "numbers = [2.5, 7.8, 1.2, 5.6, 9.1]\n",
    "\n",
    "max_num = max(numbers)\n",
    "print(\"Maximum number is:\", max_num)\n",
    "\n",
    "min_num = min(numbers)\n",
    "print(\"Minimum number is:\", min_num)\n"
   ]
  },
  {
   "cell_type": "code",
   "execution_count": null,
   "id": "b994dd4c",
   "metadata": {},
   "outputs": [],
   "source": []
  }
 ],
 "metadata": {
  "kernelspec": {
   "display_name": "Python 3 (ipykernel)",
   "language": "python",
   "name": "python3"
  },
  "language_info": {
   "codemirror_mode": {
    "name": "ipython",
    "version": 3
   },
   "file_extension": ".py",
   "mimetype": "text/x-python",
   "name": "python",
   "nbconvert_exporter": "python",
   "pygments_lexer": "ipython3",
   "version": "3.9.12"
  }
 },
 "nbformat": 4,
 "nbformat_minor": 5
}
